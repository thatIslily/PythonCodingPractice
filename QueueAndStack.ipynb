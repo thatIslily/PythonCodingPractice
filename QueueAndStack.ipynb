{
 "cells": [
  {
   "cell_type": "markdown",
   "metadata": {},
   "source": [
    "## Create An Abstract Data Type (ADT) For Queue"
   ]
  },
  {
   "cell_type": "code",
   "execution_count": 2,
   "metadata": {},
   "outputs": [],
   "source": [
    "class Queue(object):\n",
    "    def __init__(self):\n",
    "        self._items = []\n",
    "    def __len__(self):\n",
    "        return len(self.items)\n",
    "    def enqueue(self,item):\n",
    "        self._items.append(item)\n",
    "    def empty(self):\n",
    "        return len(self._items) == 0\n",
    "    def dequeue(self):\n",
    "        if self.empty():\n",
    "            return None\n",
    "        item = self._item[0]\n",
    "        del self._item[0]\n",
    "        return item\n",
    "    def front(self):\n",
    "        if self.empty():\n",
    "            return None\n",
    "        return self._items[0]"
   ]
  },
  {
   "cell_type": "code",
   "execution_count": 4,
   "metadata": {
    "collapsed": true
   },
   "outputs": [],
   "source": [
    "class _ListNode(object):\n",
    "    def __init__(self,value):\n",
    "        self.next = None\n",
    "        self.value = value\n",
    "        \n",
    "class Queue(object):\n",
    "    def __init__(self):\n",
    "        self._size = 0\n",
    "        self._head, self._tail = None, None\n",
    "    def __len__(self):\n",
    "        return self._size\n",
    "    def empty(self):\n",
    "        return self._size == 0\n",
    "    def enqueue(self,value):\n",
    "        if not self.empty():\n",
    "            self._tail.next = _ListNode(value)\n",
    "            self._tail = self._tail.next\n",
    "        else:\n",
    "            self._head = self._tail= _ListNode(value)\n",
    "        self._size += 1\n",
    "    def dequeue(self):\n",
    "        if self.empty():\n",
    "            return None\n",
    "        value = self._head\n",
    "        self._head=self._head.next\n",
    "        if not self._head:\n",
    "            self._tail = None\n",
    "        return value\n",
    "    def fron(self):\n",
    "        if self._empty():\n",
    "            return None\n",
    "        return self._head.value     \n",
    "            "
   ]
  },
  {
   "cell_type": "markdown",
   "metadata": {},
   "source": [
    "## Moving Average"
   ]
  },
  {
   "cell_type": "code",
   "execution_count": 7,
   "metadata": {
    "collapsed": true
   },
   "outputs": [],
   "source": [
    "from collections import deque\n",
    "# deque is a buit-in collection that allows users yto enqueue from one end and dequeue from \n",
    "# another end, hense people can do operations on both sides of the queue\n",
    "class MovingAverage(object):\n",
    "    def __init__(self,size):\n",
    "        self._window = deque()\n",
    "        self._size = size\n",
    "        self._sum = 0\n",
    "    def _next(self,value):\n",
    "        self._window.append(value)\n",
    "        self._sum += value\n",
    "        if len(self._window) > self._size:\n",
    "            self._sum -= self._window.popleft()\n",
    "        return self._sum/len(self._window)\n",
    "            \n",
    "        "
   ]
  },
  {
   "cell_type": "markdown",
   "metadata": {},
   "source": [
    "## Create An Abstract Data Type (ADT) For Stack"
   ]
  },
  {
   "cell_type": "code",
   "execution_count": 9,
   "metadata": {},
   "outputs": [],
   "source": [
    "class Stack(object):\n",
    "    def __init__(self):\n",
    "        self._items=[]\n",
    "    def __len__(self):\n",
    "        return len(self.items)\n",
    "    def empty(self):\n",
    "        return len(self.items) == 0\n",
    "    def pop(self):\n",
    "        if self.empty():\n",
    "            return None\n",
    "        return self.items.pop()\n",
    "    def push(self, item):\n",
    "        self.items.append()\n",
    "    def top(self):\n",
    "        if self.empty():\n",
    "            return None\n",
    "        return self._items[-1]"
   ]
  },
  {
   "cell_type": "markdown",
   "metadata": {},
   "source": [
    "## Given a string containing just the characters '(' and ')', determine if the inputtring is balanced."
   ]
  },
  {
   "cell_type": "code",
   "execution_count": 21,
   "metadata": {
    "collapsed": true
   },
   "outputs": [],
   "source": [
    "def isBalanced(_input):\n",
    "    s = []\n",
    "    for c in _input:\n",
    "        if c =='(':\n",
    "            s.append(c)\n",
    "        elif c ==')':\n",
    "            if s[-1]=='(' and len(s) >0  :\n",
    "                s.pop()\n",
    "            else:\n",
    "                return False\n",
    "    return len(s) == 0\n",
    "    \n",
    "    "
   ]
  },
  {
   "cell_type": "code",
   "execution_count": 22,
   "metadata": {},
   "outputs": [
    {
     "data": {
      "text/plain": [
       "False"
      ]
     },
     "execution_count": 22,
     "metadata": {},
     "output_type": "execute_result"
    }
   ],
   "source": [
    "isBalanced('((()')"
   ]
  },
  {
   "cell_type": "markdown",
   "metadata": {},
   "source": [
    "### Given a string containing just the characters '(', ')', '{', '}', '[' and ']', determine if the input string is valid. The brackets must close in the correct order.\n",
    "\n",
    "Examples\n",
    "\n",
    "\"()\" and \"()[]{}\", \"[{()}()]\" are all valid but \"(]\" and \"([)]\" are not."
   ]
  },
  {
   "cell_type": "code",
   "execution_count": null,
   "metadata": {
    "code_folding": [
     15
    ],
    "collapsed": true
   },
   "outputs": [],
   "source": [
    "def isValid(input):\n",
    "    \"\"\"\n",
    "    input: string input\n",
    "    return: boolean\n",
    "    \"\"\"\n",
    "    s = []\n",
    "    for c in input:\n",
    "        if c in '[{(':\n",
    "            s.append(c)\n",
    "        elif c == ')':\n",
    "          if len(s) > 0 and s[-1] == '(':\n",
    "            s.pop()\n",
    "          else:\n",
    "            return False\n",
    "        elif c == '}':\n",
    "          if len(s) > 0 and s[-1] == '{':\n",
    "            s.pop()\n",
    "          else:\n",
    "            return False\n",
    "        else:\n",
    "          if len(s) > 0 and s[-1] == '[':\n",
    "            s.pop()\n",
    "          else:\n",
    "            return False\n",
    "    return len(s) == 0"
   ]
  },
  {
   "cell_type": "markdown",
   "metadata": {},
   "source": [
    "## Create an arithmetic expression. An arithmetic expression is either a number, or a left parenthesis followed by a right parenthesis."
   ]
  },
  {
   "cell_type": "code",
   "execution_count": 33,
   "metadata": {},
   "outputs": [],
   "source": [
    "def arithmetic(_input):\n",
    "    operators = []\n",
    "    operands = []\n",
    "    for term in _input:\n",
    "        if term == '(':\n",
    "            continue\n",
    "        elif term == ')':\n",
    "            operator = operators.pop()\n",
    "            right_operand = operands.pop()\n",
    "            left_operand = operands.pop()\n",
    "            if operator == '-':\n",
    "                operands.append(left_operand - right_operand)\n",
    "            elif operator == '+':\n",
    "                operands.append(left_operand + right_operand)\n",
    "            elif operator == '*':\n",
    "                operands.append(left_operand * right_operand)\n",
    "            else:\n",
    "                operands.append(left_operand / right_operand)\n",
    "        elif term in '+-*/':\n",
    "            operators.append(term)\n",
    "        else:\n",
    "            operands.append(int(term))\n",
    "    return operands[0]"
   ]
  },
  {
   "cell_type": "code",
   "execution_count": 35,
   "metadata": {},
   "outputs": [
    {
     "data": {
      "text/plain": [
       "25"
      ]
     },
     "execution_count": 35,
     "metadata": {},
     "output_type": "execute_result"
    }
   ],
   "source": [
    "arithmetic('((2+3)*5)')"
   ]
  },
  {
   "cell_type": "code",
   "execution_count": null,
   "metadata": {
    "collapsed": true
   },
   "outputs": [],
   "source": []
  },
  {
   "cell_type": "code",
   "execution_count": 41,
   "metadata": {
    "collapsed": true
   },
   "outputs": [],
   "source": []
  },
  {
   "cell_type": "code",
   "execution_count": null,
   "metadata": {
    "collapsed": true
   },
   "outputs": [],
   "source": []
  }
 ],
 "metadata": {
  "kernelspec": {
   "display_name": "Python 3",
   "language": "python",
   "name": "python3"
  },
  "language_info": {
   "codemirror_mode": {
    "name": "ipython",
    "version": 3
   },
   "file_extension": ".py",
   "mimetype": "text/x-python",
   "name": "python",
   "nbconvert_exporter": "python",
   "pygments_lexer": "ipython3",
   "version": "3.6.8"
  },
  "toc": {
   "base_numbering": 1,
   "nav_menu": {},
   "number_sections": false,
   "sideBar": true,
   "skip_h1_title": false,
   "title_cell": "Table of Contents",
   "title_sidebar": "Contents",
   "toc_cell": false,
   "toc_position": {},
   "toc_section_display": true,
   "toc_window_display": true
  }
 },
 "nbformat": 4,
 "nbformat_minor": 2
}
