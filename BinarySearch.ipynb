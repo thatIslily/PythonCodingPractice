{
 "cells": [
  {
   "cell_type": "markdown",
   "metadata": {},
   "source": [
    "Given a target integer T and an integer array A sorted in ascending order, find the index i such that A[i] == T or return -1 if there is no such index.\n",
    "\n",
    "Assumptions\n",
    "\n",
    "There can be duplicate elements in the array, and you can return any of the indices i such that A[i] == T.\n",
    "Examples\n",
    "\n",
    "A = [1, 2, 3, 4, 5], T = 3, return 2\n",
    "A = [1, 2, 3, 4, 5], T = 6, return -1\n",
    "A = [1, 2, 2, 2, 3, 4], T = 2, return 1 or 2 or 3\n",
    "Corner Cases\n",
    "\n",
    "What if A is null or A is of zero length? We should return -1 in this case."
   ]
  },
  {
   "cell_type": "code",
   "execution_count": 14,
   "metadata": {},
   "outputs": [],
   "source": [
    "def binary_search(nums,target):\n",
    "    if not nums:\n",
    "        return -1\n",
    "    else:\n",
    "        left = 0\n",
    "        right = len(nums)-1\n",
    "        while left <= right:\n",
    "            mid = (left+right)//2\n",
    "#           print('mid=',mid)\n",
    "            if nums[mid] > target:\n",
    "                right = mid -1\n",
    "#               print('nums[mid] > target')\n",
    "            elif nums[mid] < target:\n",
    "                left = mid +1\n",
    "#               print('nums[mid] < target')\n",
    "            else:\n",
    "                return mid\n",
    "        return -1"
   ]
  },
  {
   "cell_type": "code",
   "execution_count": 18,
   "metadata": {},
   "outputs": [
    {
     "name": "stdout",
     "output_type": "stream",
     "text": [
      "mid= 2\n"
     ]
    },
    {
     "data": {
      "text/plain": [
       "2"
      ]
     },
     "execution_count": 18,
     "metadata": {},
     "output_type": "execute_result"
    }
   ],
   "source": [
    "A = [1, 2, 2, 2, 3, 4]\n",
    "T = 2\n",
    "binary_search(A,T)"
   ]
  },
  {
   "cell_type": "markdown",
   "metadata": {},
   "source": [
    "Given a target integer T and an integer array A sorted in ascending order, find the index of the first occurrence of T in A or return -1 if there is no such index.\n",
    "\n",
    "Assumptions\n",
    "\n",
    "There can be duplicate elements in the array.\n",
    "Examples\n",
    "\n",
    "A = [1, 2, 3], T = 2, return 1\n",
    "A = [1, 2, 3], T = 4, return -1\n",
    "A = [1, 2, 2, 2, 3], T = 2, return 1\n",
    "Corner Cases\n",
    "\n",
    "What if A is null or A of zero length? We should return -1 in this case."
   ]
  },
  {
   "cell_type": "code",
   "execution_count": 37,
   "metadata": {
    "collapsed": true
   },
   "outputs": [],
   "source": [
    "def binary_search(array,target):\n",
    "    if not array:\n",
    "        return -1\n",
    "    left = 0\n",
    "    right = len(array)-1\n",
    "    while left < right - 1:\n",
    "        mid = (left+right)//2\n",
    "#         print('mid=',mid)\n",
    "        if array[mid] > target:\n",
    "            right = mid -1\n",
    "        elif array[mid] < target:\n",
    "            left = mid + 1\n",
    "        else:\n",
    "            right = mid\n",
    "    if array[left] == target:\n",
    "        return left\n",
    "    if array[right] == target:\n",
    "        return right\n",
    "    return -1\n",
    "    "
   ]
  },
  {
   "cell_type": "code",
   "execution_count": 38,
   "metadata": {},
   "outputs": [
    {
     "data": {
      "text/plain": [
       "1"
      ]
     },
     "execution_count": 38,
     "metadata": {},
     "output_type": "execute_result"
    }
   ],
   "source": [
    "A = [1, 2, 2, 2, 3, 4]\n",
    "T = 2\n",
    "binary_search(A,T)"
   ]
  },
  {
   "cell_type": "markdown",
   "metadata": {},
   "source": [
    "Given a target integer T and an integer array A sorted in ascending order, find the index of the last occurrence of T in A or return -1 if there is no such index.\n",
    "\n",
    "Assumptions\n",
    "\n",
    "There can be duplicate elements in the array.\n",
    "\n",
    "Examples\n",
    "\n",
    "A = {1, 2, 3}, T = 2, return 1\n",
    "A = {1, 2, 3}, T = 4, return -1\n",
    "A = {1, 2, 2, 2, 3}, T = 2, return 3\n",
    "Corner Cases\n",
    "\n",
    "What if A is null or A is array of zero length? We should return -1 in this case."
   ]
  },
  {
   "cell_type": "code",
   "execution_count": 50,
   "metadata": {},
   "outputs": [],
   "source": [
    "def binary_search(array,target):\n",
    "    if not array:\n",
    "        return -1\n",
    "    left = 0\n",
    "    right = len(array)-1\n",
    "    while left < right - 1:\n",
    "        mid = (left+right)//2\n",
    "#         print('mid=',mid)\n",
    "        if array[mid] > target:\n",
    "            right = mid -1\n",
    "        elif array[mid] < target:\n",
    "            left = mid + 1\n",
    "        else:\n",
    "            left = mid\n",
    "    if array[right] == target:\n",
    "        return right\n",
    "    if array[left] == target:\n",
    "        return left\n",
    "    return -1\n",
    " "
   ]
  },
  {
   "cell_type": "code",
   "execution_count": 51,
   "metadata": {},
   "outputs": [
    {
     "data": {
      "text/plain": [
       "5"
      ]
     },
     "execution_count": 51,
     "metadata": {},
     "output_type": "execute_result"
    }
   ],
   "source": [
    "A = [8, 10, 10, 10, 12, 12]\n",
    "T = 12\n",
    "binary_search(A,T)"
   ]
  },
  {
   "cell_type": "markdown",
   "metadata": {},
   "source": [
    "Given a target integer T and an integer array A sorted in ascending order, find the index i in A such that A[i] is closest to T.\n",
    "\n",
    "Assumptions\n",
    "\n",
    "There can be duplicate elements in the array, and we can return any of the indices with same value.\n",
    "Examples\n",
    "\n",
    "A = {1, 2, 3}, T = 2, return 1\n",
    "A = {1, 4, 6}, T = 3, return 1\n",
    "A = {1, 4, 6}, T = 5, return 1 or 2\n",
    "A = {1, 3, 3, 4}, T = 2, return 0 or 1 or 2\n",
    "Corner Cases\n",
    "\n",
    "What if A is null or A is of zero length? We should return -1 in this case."
   ]
  },
  {
   "cell_type": "code",
   "execution_count": 57,
   "metadata": {
    "collapsed": true
   },
   "outputs": [],
   "source": [
    "def binary_search(array,target):\n",
    "    if not array:\n",
    "        return -1\n",
    "    left = 0\n",
    "    right = len(array)-1\n",
    "    while left < right - 1:\n",
    "        mid = (left+right)//2\n",
    "#         print('mid=',mid)\n",
    "        if array[mid] > target:\n",
    "            right = mid\n",
    "        elif array[mid] < target:\n",
    "            left = mid\n",
    "        else:\n",
    "            return mid\n",
    "    return left if abs(array[left] - target) < abs(array[right]-target) else right\n"
   ]
  },
  {
   "cell_type": "code",
   "execution_count": 58,
   "metadata": {},
   "outputs": [
    {
     "data": {
      "text/plain": [
       "1"
      ]
     },
     "execution_count": 58,
     "metadata": {},
     "output_type": "execute_result"
    }
   ],
   "source": [
    "A = [1,4,6]\n",
    "T = 3\n",
    "binary_search(A,T)"
   ]
  }
 ],
 "metadata": {
  "kernelspec": {
   "display_name": "Python 3",
   "language": "python",
   "name": "python3"
  },
  "language_info": {
   "codemirror_mode": {
    "name": "ipython",
    "version": 3
   },
   "file_extension": ".py",
   "mimetype": "text/x-python",
   "name": "python",
   "nbconvert_exporter": "python",
   "pygments_lexer": "ipython3",
   "version": "3.6.8"
  },
  "toc": {
   "base_numbering": 1,
   "nav_menu": {},
   "number_sections": true,
   "sideBar": true,
   "skip_h1_title": false,
   "title_cell": "Table of Contents",
   "title_sidebar": "Contents",
   "toc_cell": false,
   "toc_position": {},
   "toc_section_display": true,
   "toc_window_display": false
  }
 },
 "nbformat": 4,
 "nbformat_minor": 2
}
