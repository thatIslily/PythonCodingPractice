{
 "cells": [
  {
   "cell_type": "markdown",
   "metadata": {},
   "source": [
    "## Bubble Sort: \n",
    "    time complexity:O(n^2)\n",
    "    space complexity:O(1)"
   ]
  },
  {
   "cell_type": "code",
   "execution_count": 13,
   "metadata": {
    "collapsed": true
   },
   "outputs": [],
   "source": [
    "def bubble_sort(alist):\n",
    "    for n in range(len(alist)):\n",
    "        for j in range(len(alist)-n-1):\n",
    "            if alist[j]>alist[j+1]:\n",
    "                alist[j],alist[j+1]=alist[j+1],alist[j]\n",
    "    return alist"
   ]
  },
  {
   "cell_type": "code",
   "execution_count": 14,
   "metadata": {},
   "outputs": [
    {
     "data": {
      "text/plain": [
       "[1, 2, 3, 4, 4, 7]"
      ]
     },
     "execution_count": 14,
     "metadata": {},
     "output_type": "execute_result"
    }
   ],
   "source": [
    "bubble_sort([3,4,7,2,4,1])"
   ]
  },
  {
   "cell_type": "markdown",
   "metadata": {},
   "source": [
    "## Selection Sort:\n",
    "    time complexity: O(n^2)\n",
    "    space complexity: O(1)"
   ]
  },
  {
   "cell_type": "code",
   "execution_count": 29,
   "metadata": {
    "collapsed": true
   },
   "outputs": [],
   "source": [
    "def selection_sort(alist):\n",
    "    for n in range(len(alist)):\n",
    "        max = 0\n",
    "        for j in range(len(alist)-n):\n",
    "            if alist[j] > alist[max]:\n",
    "                max = j\n",
    "        alist[(len(alist)-n-1)], alist[max] = alist[max],alist[(len(alist)-n-1)]\n",
    "    return alist\n",
    "            "
   ]
  },
  {
   "cell_type": "markdown",
   "metadata": {},
   "source": [
    "## Insertion Sort:\n",
    "    insertion_sort1: Time complexity: O(n^2)\n",
    "                     Space complexity: O(1)\n",
    "\n",
    "    insertion_sort2: Time complexity: O(n^2)\n",
    "                     Space complexity: O(n)"
   ]
  },
  {
   "cell_type": "code",
   "execution_count": 89,
   "metadata": {},
   "outputs": [],
   "source": [
    "def insertion_sort1(alist):\n",
    "    for i in range(1,len(alist)):\n",
    "#         print('current alist is', alist)\n",
    "#         print('index is',i)\n",
    "        cur_value=alist[i]\n",
    "#         print('current value is',cur_value)\n",
    "        k = i\n",
    "        while k > 0 and cur_value<alist[k-1]:\n",
    "#             print('Now k=',k, ', current value,', cur_value , '< alist[k-1]= ' ,alist[k],', jump into the while loop')\n",
    "            alist[k] = alist[k-1]\n",
    "#             print('alist[k] switches with alist[k-1] and becomes',alist[k],', and then minus 1 from k')\n",
    "            k -=1\n",
    "        alist[k]=cur_value\n",
    "#         print('now k=',k,', current valure',cur_value,'? the value before itself',alist[k-1],', Jump out of the while loop, and let alist[k] equal to current value',cur_value)\n",
    "    return alist"
   ]
  },
  {
   "cell_type": "code",
   "execution_count": 90,
   "metadata": {},
   "outputs": [
    {
     "data": {
      "text/plain": [
       "[1, 2, 3, 4, 4, 7]"
      ]
     },
     "execution_count": 90,
     "metadata": {},
     "output_type": "execute_result"
    }
   ],
   "source": [
    "insertion_sort1([4,2,1,3,0,6])"
   ]
  },
  {
   "cell_type": "code",
   "execution_count": 115,
   "metadata": {
    "collapsed": true
   },
   "outputs": [],
   "source": [
    "def insertion_sort2(alist):\n",
    "    newList=[]\n",
    "    for i in range(len(alist)):\n",
    "#         print('i =',i)\n",
    "        newList.append(alist[i])\n",
    "#         print(newList)\n",
    "        for j in range(i,0,-1):\n",
    "#             print('j =',j)\n",
    "#             print('newList[j-1]=',newList[j-1])\n",
    "#             print('alist[i]=',alist[i])\n",
    "            if alist[i]<newList[j-1]:\n",
    "                newList[j-1],newList[j]=alist[i],newList[j-1]\n",
    "#                 print('switch')\n",
    "            if alist[i]>newList[j-1]:\n",
    "                continue\n",
    "    return newList    \n",
    "    "
   ]
  },
  {
   "cell_type": "code",
   "execution_count": 116,
   "metadata": {},
   "outputs": [
    {
     "data": {
      "text/plain": [
       "[0, 1, 2, 3, 4, 6]"
      ]
     },
     "execution_count": 116,
     "metadata": {},
     "output_type": "execute_result"
    }
   ],
   "source": [
    "insertion_sort2([4,2,1,3,0,6])"
   ]
  },
  {
   "cell_type": "markdown",
   "metadata": {},
   "source": [
    "## Merge Sort:\n",
    "    Time complexity: O(nlogn)\n",
    "    Space complexity: O(n)"
   ]
  },
  {
   "cell_type": "code",
   "execution_count": 133,
   "metadata": {},
   "outputs": [],
   "source": [
    "#array 1 and array 2 are sorted\n",
    "def merge(array1, array2): \n",
    "    i = j = 0\n",
    "    result=[]\n",
    "    while i < len(array1) and j < len(array2):\n",
    "        if array1[i]<=array2[j]:\n",
    "            result.append(array1[i])\n",
    "            i +=1\n",
    "        else:\n",
    "            result.append(array2[j])\n",
    "            j +=1\n",
    "    while i < len(array1):\n",
    "        result.append(array1[i])\n",
    "        i += 1\n",
    "    while j < len(array2):\n",
    "        result.append(array2[j])\n",
    "        j += 1\n",
    "    return result"
   ]
  },
  {
   "cell_type": "code",
   "execution_count": 135,
   "metadata": {},
   "outputs": [
    {
     "data": {
      "text/plain": [
       "[1, 1, 3, 4, 5, 2]"
      ]
     },
     "execution_count": 135,
     "metadata": {},
     "output_type": "execute_result"
    }
   ],
   "source": [
    "merge([1,3,4],[1,5,2])"
   ]
  },
  {
   "cell_type": "code",
   "execution_count": 136,
   "metadata": {
    "collapsed": true
   },
   "outputs": [],
   "source": [
    "def merge(array1, array2): \n",
    "    i = j = 0\n",
    "    result=[]\n",
    "    while i < len(array1) and j < len(array2):\n",
    "        if array1[i]<=array2[j]:\n",
    "            result.append(array1[i])\n",
    "            i +=1\n",
    "        else:\n",
    "            result.append(array2[j])\n",
    "            j +=1\n",
    "    while i < len(array1):\n",
    "        result.append(array1[i])\n",
    "        i += 1\n",
    "    while j < len(array2):\n",
    "        result.append(array2[j])\n",
    "        j += 1\n",
    "    return result\n",
    "\n",
    "def merge_sort(array):\n",
    "    if len(array)==0 or len(array)==1:\n",
    "        return array\n",
    "    else:\n",
    "        mid = len(array)//2\n",
    "        left_array = merge_sort(array[:mid])\n",
    "        right_array = merge_sort(array[mid:])\n",
    "        array = merge(left_array,right_array)\n",
    "    return array "
   ]
  },
  {
   "cell_type": "code",
   "execution_count": 138,
   "metadata": {},
   "outputs": [
    {
     "data": {
      "text/plain": [
       "[1, 1, 2, 3, 4, 5]"
      ]
     },
     "execution_count": 138,
     "metadata": {},
     "output_type": "execute_result"
    }
   ],
   "source": [
    "merge_sort([4,3,1,5,2,1])"
   ]
  },
  {
   "cell_type": "markdown",
   "metadata": {},
   "source": [
    "## Quick Sort:\n",
    "    Time complexity: regular case -- O(nlogn); worst case -- O(n^2)\n",
    "    Space complexity: O(nlogn)\n"
   ]
  },
  {
   "cell_type": "code",
   "execution_count": 143,
   "metadata": {},
   "outputs": [],
   "source": [
    "def partition(lst,start,end,pivot_index):\n",
    "    lst[pivot_index],lst[end]=lst[end],lst[pivot_index]\n",
    "    store_index = start\n",
    "    pivot = lst[end]\n",
    "    for i in range(start,end):\n",
    "        if lst[i] < pivot:\n",
    "            lst[i],lst[store_index]=lst[store_index],lst[i]\n",
    "            store_index += 1\n",
    "    lst[store_index],lst[end] =lst[end],lst[store_index]\n",
    "    return store_index\n",
    "\n",
    "from random import randrange\n",
    "\n",
    "def quick_sort(lst,start,end):\n",
    "    if start >= end:\n",
    "        return \n",
    "    pivot_index=randrange(start,end+1)\n",
    "    new_pivot_index = partition(lst,start,end,pivot_index)\n",
    "    quick_sort(lst,start,new_pivot_index-1)\n",
    "    quick_sort(lst,new_pivot_index+1,end)\n",
    "    \n",
    "    "
   ]
  },
  {
   "cell_type": "code",
   "execution_count": 144,
   "metadata": {},
   "outputs": [
    {
     "name": "stdout",
     "output_type": "stream",
     "text": [
      "[-1, 1, 5, 28]\n"
     ]
    }
   ],
   "source": [
    "alist=[28,1,-1,5]\n",
    "quick_sort(alist,0,len(alist)-1)\n",
    "print(alist)"
   ]
  },
  {
   "cell_type": "code",
   "execution_count": null,
   "metadata": {
    "collapsed": true
   },
   "outputs": [],
   "source": []
  }
 ],
 "metadata": {
  "kernelspec": {
   "display_name": "Python 3",
   "language": "python",
   "name": "python3"
  },
  "language_info": {
   "codemirror_mode": {
    "name": "ipython",
    "version": 3
   },
   "file_extension": ".py",
   "mimetype": "text/x-python",
   "name": "python",
   "nbconvert_exporter": "python",
   "pygments_lexer": "ipython3",
   "version": "3.6.8"
  },
  "toc": {
   "base_numbering": 1,
   "nav_menu": {},
   "number_sections": false,
   "sideBar": true,
   "skip_h1_title": false,
   "title_cell": "Table of Contents",
   "title_sidebar": "Contents",
   "toc_cell": false,
   "toc_position": {},
   "toc_section_display": true,
   "toc_window_display": true
  }
 },
 "nbformat": 4,
 "nbformat_minor": 2
}
