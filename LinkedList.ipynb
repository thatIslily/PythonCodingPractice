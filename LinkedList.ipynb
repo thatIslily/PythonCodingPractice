{
 "cells": [
  {
   "cell_type": "markdown",
   "metadata": {},
   "source": [
    "Search by Index"
   ]
  },
  {
   "cell_type": "code",
   "execution_count": null,
   "metadata": {
    "collapsed": true
   },
   "outputs": [],
   "source": [
    "def search_by_index(head,index):\n",
    "    # head: refers to the first head of the input linked list\n",
    "    # index: is a positive integer and represents the index of the node we want to find\n",
    "    # return: a corresponding index node object if found, None otherwise\n",
    "    if head is None or index <0:\n",
    "        return None\n",
    "    for head in range(index):\n",
    "        head = head.next\n",
    "        if not head:\n",
    "            return None\n",
    "    return head"
   ]
  },
  {
   "cell_type": "code",
   "execution_count": null,
   "metadata": {
    "collapsed": true
   },
   "outputs": [],
   "source": [
    "Search by Value"
   ]
  },
  {
   "cell_type": "code",
   "execution_count": null,
   "metadata": {
    "collapsed": true
   },
   "outputs": [],
   "source": [
    "def search_by_value(head,value):\n",
    "    if head is None or value is None:\n",
    "        return None\n",
    "    for head in range(len(value)):\n",
    "        head = head.next\n",
    "        if not head:\n",
    "            return None"
   ]
  },
  {
   "cell_type": "markdown",
   "metadata": {},
   "source": [
    "## Design A Linked List Class\n",
    "\n",
    "Design your implementation of the linked list. You can choose to use the singly linked list or the doubly linked list. A node in a singly linked list should have two attributes: val and next. val is the value of the current node, and next is a pointer/reference to the next node. If you want to use the doubly linked list, you will need one more attribute prev to indicate the previous node in the linked list. Assume all nodes in the linked list are 0-indexed.\n",
    "\n",
    "Implement these functions in your linked list class:\n",
    "\n",
    "get(index) : Get the value of the index-th node in the linked list. If the index is invalid, return -1.\n",
    "\n",
    "addAtHead(val) : Add a node of value val before the first element of the linked list. After the insertion, the new node will be the first node of the linked list.\n",
    "\n",
    "addAtTail(val) : Append a node of value val to the last element of the linked list.\n",
    "\n",
    "addAtIndex(index, val) : Add a node of value val before the index-th node in the linked list. If index equals to the length of linked list, the node will be appended to the end of linked list. If index is greater than the length, the node will not be inserted.\n",
    "\n",
    "deleteAtIndex(index) : Delete the index-th node in the linked list, if the index is valid.\n",
    "\n",
    "Example:\n",
    "\n",
    "MyLinkedList linkedList = new MyLinkedList();\n",
    "linkedList.addAtHead(1);\n",
    "\n",
    "linkedList.addAtTail(3);\n",
    "\n",
    "linkedList.addAtIndex(1, 2);  // linked list becomes 1->2->3\n",
    "\n",
    "linkedList.get(1);            // returns 2\n",
    "\n",
    "linkedList.deleteAtIndex(1);  // now the linked list is 1->3\n",
    "\n",
    "linkedList.get(1);            // returns 3\n",
    "\n",
    "Note:\n",
    "\n",
    "All values will be in the range of [1, 1000].\n",
    "The number of operations will be in the range of [1, 1000].\n",
    "Please do not use the built-in LinkedList library."
   ]
  },
  {
   "cell_type": "code",
   "execution_count": 249,
   "metadata": {},
   "outputs": [],
   "source": [
    "class _ListNode(object):\n",
    "    def __init__(self,val):\n",
    "        self.val=val\n",
    "        self.next=None\n",
    "\n",
    "class MyLinkedList(object):\n",
    "    def __init__(self):\n",
    "        self._head=None\n",
    "        self._size=0\n",
    "        self._tail=None\n",
    "        \n",
    "    def _get(self,index):\n",
    "        # assuming index is within [0,self._size)\n",
    "        node=self._head\n",
    "        for _ in range(index):\n",
    "            node=node.next\n",
    "        return node\n",
    "    \n",
    "    def get(self,index):\n",
    "        '''\n",
    "        get the value of the index-th node in the linked list. If the index is \n",
    "        invalid, return -1.\n",
    "        type index: int\n",
    "        return index: int\n",
    "        '''\n",
    "        if index<0 or index >= self._size:\n",
    "            return -1\n",
    "        return self._get(index).val\n",
    "    \n",
    "    def addAtHead(self,val):\n",
    "        '''\n",
    "        Append a node of value val before the first element of the linked list.\n",
    "        :type val: int\n",
    "        :rtype: None\n",
    "        '''\n",
    "        if self._size==0:\n",
    "            self._head = self._tail = _ListNode(val)\n",
    "        else:\n",
    "            new_head=_ListNode(val)\n",
    "            new_head.next=self._head\n",
    "            self._head=new_head\n",
    "        self._size += 1\n",
    "        \n",
    "    def addAtTail(self,val):\n",
    "        '''\n",
    "        Append a node of value to the last element of the linked list\n",
    "        :type val: int\n",
    "        :rtype: None\n",
    "        '''\n",
    "        if self._size == 0:\n",
    "            self._head = self._tail = _ListNode(val)\n",
    "        else:\n",
    "            self._tail.next=_ListNode(val)\n",
    "            self._tail=self._tail.next\n",
    "        self._size += 1\n",
    "        \n",
    "    def addAtIndex(self,index,val):\n",
    "        '''\n",
    "        Add a node of value val before the index-th node in the linked list. \n",
    "        If  index equals to the length of linked list, the node will be appended \n",
    "        to the end of linked list. If index is greater than  the length, the node\n",
    "        will not be inserted.\n",
    "        :type index: int\n",
    "        :type val: int\n",
    "        :rtype: None\n",
    "        '''\n",
    "        if index < 0 or index > self._size:\n",
    "            return \n",
    "        if index == 0:\n",
    "            self.addAtHead(val)\n",
    "        elif index == self._size:\n",
    "            self.addAtTail(val)\n",
    "        else:\n",
    "            node = self._get(index-1)\n",
    "            new_node= _ListNode(val)\n",
    "            new_node.next=node.next\n",
    "            node.next=new_node\n",
    "            self._size += 1\n",
    "            \n",
    "    def deleteAtIndex(self,index):\n",
    "        '''\n",
    "        Delete the index-th node in the linked list, if the index is valid.\n",
    "        :type index: int\n",
    "        :rtye: None\n",
    "        '''\n",
    "        if index<0 or index >= self._size:\n",
    "            return\n",
    "        if index==0:\n",
    "            new_head=self._head.next\n",
    "            self._head.next=None\n",
    "            self._head = new_head\n",
    "            #if remove the last node in the list\n",
    "            if not self._head:\n",
    "                self._tail = None\n",
    "        else:\n",
    "            node = self._get(index-1)\n",
    "            remove_node = node.next\n",
    "            node.next = remove_node.next\n",
    "            remove_node.next = None\n",
    "            #if remove the original tail\n",
    "            if index == self._size -1:\n",
    "                self._tail=node\n",
    "        self._size -= 1\n",
    "        \n",
    "    def __str__(self):\n",
    "        strs=[]\n",
    "        node =self._head\n",
    "        while node is not None:\n",
    "            strs.append(str(node.val))\n",
    "            node = node.next\n",
    "        return ' - > '.join(strs)\n",
    "                "
   ]
  },
  {
   "cell_type": "code",
   "execution_count": 264,
   "metadata": {
    "collapsed": true
   },
   "outputs": [],
   "source": [
    "a = MyLinkedList()"
   ]
  },
  {
   "cell_type": "code",
   "execution_count": 265,
   "metadata": {
    "collapsed": true
   },
   "outputs": [],
   "source": [
    "a.addAtTail(5)"
   ]
  },
  {
   "cell_type": "code",
   "execution_count": 266,
   "metadata": {
    "collapsed": true
   },
   "outputs": [],
   "source": [
    "a.addAtIndex(1,3)"
   ]
  },
  {
   "cell_type": "code",
   "execution_count": 267,
   "metadata": {
    "collapsed": true
   },
   "outputs": [],
   "source": [
    "a.addAtHead(6)"
   ]
  },
  {
   "cell_type": "code",
   "execution_count": 268,
   "metadata": {},
   "outputs": [
    {
     "name": "stdout",
     "output_type": "stream",
     "text": [
      "6 - > 5 - > 3\n"
     ]
    }
   ],
   "source": [
    "print(a)"
   ]
  },
  {
   "cell_type": "markdown",
   "metadata": {},
   "source": [
    "### Return the number of nodes in the linked list.\n",
    "\n",
    "Examples\n",
    "\n",
    "L = null, return 0\n",
    "\n",
    "L = 1 -> null, return 1\n",
    "\n",
    "L = 1 -> 2 -> null, return 2\n",
    " "
   ]
  },
  {
   "cell_type": "code",
   "execution_count": 269,
   "metadata": {
    "collapsed": true
   },
   "outputs": [],
   "source": [
    "def countLinkedList(head):\n",
    "    count = 0\n",
    "    while head:\n",
    "        count += 1\n",
    "        head = head.next\n",
    "    return count"
   ]
  },
  {
   "cell_type": "code",
   "execution_count": 270,
   "metadata": {},
   "outputs": [
    {
     "data": {
      "text/plain": [
       "3"
      ]
     },
     "execution_count": 270,
     "metadata": {},
     "output_type": "execute_result"
    }
   ],
   "source": [
    "countLinkedList(a._head)"
   ]
  },
  {
   "cell_type": "markdown",
   "metadata": {},
   "source": [
    "## Reverse a singly-linked list iteratively.\n",
    "\n",
    "Examples\n",
    "\n",
    "L = null, return null\n",
    "\n",
    "L = 1 -> null, return 1 -> null\n",
    "\n",
    "L = 1 -> 2 -> 3 -> null, return 3 -> 2 -> 1 -> null"
   ]
  },
  {
   "cell_type": "code",
   "execution_count": 271,
   "metadata": {
    "collapsed": true
   },
   "outputs": [],
   "source": [
    "def reverse(head):\n",
    "    '''\n",
    "    input ListNode node's head\n",
    "    output ListNode\n",
    "    '''\n",
    "    prev,curr = None, head\n",
    "    while curr:\n",
    "        next_ = curr.next\n",
    "        curr.next = prev\n",
    "        prev, curr = curr, next_\n",
    "    return prev"
   ]
  },
  {
   "cell_type": "code",
   "execution_count": 272,
   "metadata": {},
   "outputs": [],
   "source": [
    "b=reverse(a._head)"
   ]
  },
  {
   "cell_type": "code",
   "execution_count": 273,
   "metadata": {},
   "outputs": [
    {
     "data": {
      "text/plain": [
       "__main__._ListNode"
      ]
     },
     "execution_count": 273,
     "metadata": {},
     "output_type": "execute_result"
    }
   ],
   "source": [
    "type(b)"
   ]
  },
  {
   "cell_type": "code",
   "execution_count": 274,
   "metadata": {},
   "outputs": [
    {
     "data": {
      "text/plain": [
       "__main__.MyLinkedList"
      ]
     },
     "execution_count": 274,
     "metadata": {},
     "output_type": "execute_result"
    }
   ],
   "source": [
    "type(a)"
   ]
  },
  {
   "cell_type": "code",
   "execution_count": 275,
   "metadata": {},
   "outputs": [
    {
     "name": "stdout",
     "output_type": "stream",
     "text": [
      "6\n"
     ]
    }
   ],
   "source": [
    "print(a)"
   ]
  },
  {
   "cell_type": "code",
   "execution_count": 276,
   "metadata": {},
   "outputs": [
    {
     "data": {
      "text/plain": [
       "6"
      ]
     },
     "execution_count": 276,
     "metadata": {},
     "output_type": "execute_result"
    }
   ],
   "source": [
    "reverse(a._head).val"
   ]
  },
  {
   "cell_type": "code",
   "execution_count": 278,
   "metadata": {},
   "outputs": [
    {
     "name": "stdout",
     "output_type": "stream",
     "text": [
      "3\n"
     ]
    }
   ],
   "source": [
    "print(b.val)"
   ]
  },
  {
   "cell_type": "markdown",
   "metadata": {},
   "source": [
    "## Print a singly linked list recursively"
   ]
  },
  {
   "cell_type": "code",
   "execution_count": 202,
   "metadata": {
    "collapsed": true
   },
   "outputs": [],
   "source": [
    "def printLinkedList(head):\n",
    "    if head is None:\n",
    "        return\n",
    "    else:\n",
    "        print(head.val)\n",
    "        printLinkedList(head.next)"
   ]
  },
  {
   "cell_type": "code",
   "execution_count": 263,
   "metadata": {},
   "outputs": [
    {
     "name": "stdout",
     "output_type": "stream",
     "text": [
      "6\n"
     ]
    }
   ],
   "source": [
    "printLinkedList(a._head)"
   ]
  },
  {
   "cell_type": "code",
   "execution_count": 224,
   "metadata": {},
   "outputs": [
    {
     "name": "stdout",
     "output_type": "stream",
     "text": [
      "6 - > 5 - > 3\n"
     ]
    }
   ],
   "source": [
    "print(a)"
   ]
  },
  {
   "cell_type": "markdown",
   "metadata": {},
   "source": [
    "## Reverse a singly linked list recursively"
   ]
  },
  {
   "cell_type": "code",
   "execution_count": 195,
   "metadata": {
    "collapsed": true
   },
   "outputs": [],
   "source": [
    "def reverseLinkedList(head):\n",
    "    if head is None or head.next is None:\n",
    "        return head\n",
    "    else:\n",
    "        new_head=reverseLinkedList(head.next)\n",
    "        head.next.next = head\n",
    "        head.next = None\n",
    "        return new_head"
   ]
  }
 ],
 "metadata": {
  "kernelspec": {
   "display_name": "Python 3",
   "language": "python",
   "name": "python3"
  },
  "language_info": {
   "codemirror_mode": {
    "name": "ipython",
    "version": 3
   },
   "file_extension": ".py",
   "mimetype": "text/x-python",
   "name": "python",
   "nbconvert_exporter": "python",
   "pygments_lexer": "ipython3",
   "version": "3.6.8"
  },
  "toc": {
   "base_numbering": 1,
   "nav_menu": {},
   "number_sections": false,
   "sideBar": true,
   "skip_h1_title": false,
   "title_cell": "Table of Contents",
   "title_sidebar": "Contents",
   "toc_cell": false,
   "toc_position": {},
   "toc_section_display": true,
   "toc_window_display": true
  }
 },
 "nbformat": 4,
 "nbformat_minor": 2
}
