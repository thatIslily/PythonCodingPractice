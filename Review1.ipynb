{
 "cells": [
  {
   "cell_type": "markdown",
   "metadata": {},
   "source": [
    "### Q1: Find the index of the last occurrence of an element \n",
    "    in a sorted array(asc order). if not found, return -1.\n",
    "    \n",
    "    e.g.\n",
    "\n",
    "    Input:\n",
    "\n",
    "    nums=[1,2,3,3,5]\n",
    "\n",
    "    target = 3\n",
    "\n",
    "    Output:\n",
    "\n",
    "    3\n",
    "\n"
   ]
  },
  {
   "cell_type": "code",
   "execution_count": 16,
   "metadata": {
    "collapsed": true
   },
   "outputs": [],
   "source": [
    "def search(array,target):\n",
    "    if array is None or len(array) == 0:\n",
    "        return -1\n",
    "    else:\n",
    "        left = 0\n",
    "        right = len(array)-1\n",
    "        while left < right -1:\n",
    "            mid = (left+right)//2\n",
    "            if array[mid] < target:\n",
    "                left = mid +1\n",
    "            elif array[mid] > target:\n",
    "                right = mid -1\n",
    "            else:\n",
    "                left = mid\n",
    "        if array[right] == target:\n",
    "            return right\n",
    "        if array[left] == target:\n",
    "            return left\n",
    "        return -1\n",
    "                "
   ]
  },
  {
   "cell_type": "code",
   "execution_count": 39,
   "metadata": {},
   "outputs": [
    {
     "data": {
      "text/plain": [
       "3"
      ]
     },
     "execution_count": 39,
     "metadata": {},
     "output_type": "execute_result"
    }
   ],
   "source": [
    "nums=[0,1,12,12,17,18,19,20,25,26,27]\n",
    "target = 12\n",
    "search(nums,target)"
   ]
  },
  {
   "cell_type": "markdown",
   "metadata": {},
   "source": [
    "### Q2: Find the Index of First Occurence Element"
   ]
  },
  {
   "cell_type": "code",
   "execution_count": 44,
   "metadata": {},
   "outputs": [],
   "source": [
    "def find_first_occurrence(array,target):\n",
    "    if not array:\n",
    "        return -1\n",
    "    else:\n",
    "        left = 0\n",
    "        right = len(array)-1\n",
    "        while left < right:\n",
    "            mid = (left+right)//2\n",
    "            if array[mid] < target:\n",
    "                left = mid + 1\n",
    "            else:\n",
    "                right = mid\n",
    "        if array[left] == target:\n",
    "            return left\n",
    "        if array[right] == target:\n",
    "            return right\n",
    "        return -1"
   ]
  },
  {
   "cell_type": "code",
   "execution_count": 47,
   "metadata": {},
   "outputs": [
    {
     "data": {
      "text/plain": [
       "-1"
      ]
     },
     "execution_count": 47,
     "metadata": {},
     "output_type": "execute_result"
    }
   ],
   "source": [
    "nums=[0,1,12,12,17,18,19,20,25,26,27]\n",
    "num=[]\n",
    "target = 12\n",
    "find_first_occurrence(num,target)"
   ]
  },
  {
   "cell_type": "markdown",
   "metadata": {},
   "source": [
    "### Q3: Implement a selection sort for array"
   ]
  },
  {
   "cell_type": "code",
   "execution_count": 48,
   "metadata": {
    "collapsed": true
   },
   "outputs": [],
   "source": [
    "def selectionSort(array):\n",
    "    if not array:\n",
    "        return None\n",
    "    for i in range(len(array)):\n",
    "        max_index = 0\n",
    "        for j in range((len(array)-i)):\n",
    "            if array[max] < array[j]:\n",
    "                max_index = j\n",
    "        array[len(array)-i-1],array[max]=array[max],array[len(array)-i-1]\n",
    "    return array"
   ]
  },
  {
   "cell_type": "code",
   "execution_count": 55,
   "metadata": {
    "collapsed": true
   },
   "outputs": [],
   "source": [
    "def selectionSort2(array):\n",
    "    if not array:\n",
    "        return None\n",
    "    for i in range(len(array)):\n",
    "        least_index = i\n",
    "        for j in range(i+1,len(array)):\n",
    "            if array[j]<array[least_index]:\n",
    "                least_index=j\n",
    "        array[least_index],array[i]=array[i],array[least_index]\n",
    "    return array"
   ]
  },
  {
   "cell_type": "code",
   "execution_count": 56,
   "metadata": {},
   "outputs": [
    {
     "data": {
      "text/plain": [
       "[1, 2, 5, 6, 7]"
      ]
     },
     "execution_count": 56,
     "metadata": {},
     "output_type": "execute_result"
    }
   ],
   "source": [
    "selectionSort2([6,7,2,5,1])"
   ]
  },
  {
   "cell_type": "markdown",
   "metadata": {},
   "source": [
    "### Q4: Merge two reversed sorted linked list.\n",
    "\n",
    "e.g.,\n",
    "\n",
    "10 -> 8 -> 5 -> 1\n",
    "\n",
    "9 -> 7 -> 6 -> 3 -> 2\n",
    "\n",
    "result: 10 -> 9 -> 8 -> 7 -> 6 -> 5 -> 3 -> 2 -> 1\n",
    "\n",
    "\n",
    "\n",
    "#Definition for singly-linked list.\n",
    "\n",
    "#class ListNode:\n",
    "\n",
    "#def init(self, x):\n",
    "\n",
    "#self.val = x\n",
    "\n",
    "#self.next = None\n",
    "\n"
   ]
  },
  {
   "cell_type": "code",
   "execution_count": 57,
   "metadata": {
    "collapsed": true
   },
   "outputs": [],
   "source": [
    "class ListNode(object):\n",
    "    def __init__(self,val):\n",
    "        self.val=val\n",
    "        self.next=None\n",
    "def merge_lists(head1,head2):\n",
    "    new_head=ListNode(None)\n",
    "    curr=new_head\n",
    "    while head1 is not None and head2 is not None:\n",
    "        if head1.val>head2.val:\n",
    "            curr.next=head1\n",
    "            head1=head1.next\n",
    "        else:\n",
    "            curr.next=head2\n",
    "            head2=head2.next\n",
    "        curr=curr.next\n",
    "    if head1:\n",
    "        curr.next = head1\n",
    "    if heda2:\n",
    "        curr.next = head2\n",
    "    return new_head.next"
   ]
  },
  {
   "cell_type": "code",
   "execution_count": 26,
   "metadata": {
    "collapsed": true
   },
   "outputs": [],
   "source": [
    "class ListNode(object):\n",
    "    def __init__(self,val):\n",
    "        self.val=val\n",
    "        self.next=None\n",
    "def mergeSort(head1,head2):\n",
    "    new_head=ListNode()\n",
    "    current=new_head\n",
    "    while head1 and head2 is not None:\n",
    "        if head1.val > head2.val:\n",
    "            current.next=ListNode(head1.val)\n",
    "            head1=head1.next\n",
    "            current=current.next\n",
    "        else:\n",
    "            current.next=ListNode(head2.val)\n",
    "            head2=head2.next\n",
    "            current=current.next\n",
    "    while head1:\n",
    "        current.next=head1\n",
    "        head1=head1.next\n",
    "        current=current.next\n",
    "    while head2:\n",
    "        current.next=head2\n",
    "        head2=head2.next\n",
    "        current=current.next\n",
    "    return new_head.next     "
   ]
  },
  {
   "cell_type": "markdown",
   "metadata": {},
   "source": [
    "### Q5: Given a singly linked list and a target value, remove all nodes in this list that contain this target.\n",
    "\n",
    "\n",
    "\n",
    "e.g.,\n",
    "\n",
    "10 -> 8 -> 5 -> 1 -> 8  target = 8\n",
    "\n",
    "return 10 -> 5 -> 1\n",
    "\n",
    "\n",
    "\n",
    "#Definition for singly-linked list.\n",
    "\n",
    "#class ListNode:\n",
    "\n",
    "#def init(self, x):\n",
    "\n",
    "#self.val = x\n",
    "\n",
    "#self.next = None"
   ]
  },
  {
   "cell_type": "code",
   "execution_count": null,
   "metadata": {
    "collapsed": true
   },
   "outputs": [],
   "source": [
    "class ListNode(object):\n",
    "    def __init__(self,val):\n",
    "        self.val=val\n",
    "        self.next=None\n",
    "def remove(head,target):\n",
    "    if not head:\n",
    "        return head\n",
    "    fakehead=ListNode(None)\n",
    "    fakehead.next=head\n",
    "    prevNode,currNode=fake.head,fake.head.next\n",
    "    while currNode:\n",
    "        if currNode.val==target:\n",
    "            prevNode.next=currNode.next\n",
    "        else:\n",
    "            prevNode=currNode\n",
    "        currNode = currNode.next\n",
    "    return fakehead.next\n",
    "            \n",
    "    "
   ]
  },
  {
   "cell_type": "code",
   "execution_count": 38,
   "metadata": {
    "collapsed": true
   },
   "outputs": [],
   "source": [
    "class ListNode(object):\n",
    "    def __init__(self,val):\n",
    "        self.val=val\n",
    "        self.next=None\n",
    "def deleteTarget(head,target):\n",
    "    if not head:\n",
    "        return head\n",
    "    fake_head=ListNode(None)\n",
    "    fake_head.next=head\n",
    "    curr = head\n",
    "    prev = fake_head\n",
    "    while curr is not None:\n",
    "        if curr.val == target:\n",
    "            prev.next=curr.next\n",
    "            curr = curr.next\n",
    "        else:\n",
    "            prev,curr=curr,curr.next\n",
    "    return fake_head.next"
   ]
  },
  {
   "cell_type": "code",
   "execution_count": 35,
   "metadata": {
    "collapsed": true
   },
   "outputs": [],
   "source": [
    "h1=ListNode(5)\n",
    "h1.next=ListNode(4)\n",
    "h1.next.next=ListNode(4)\n"
   ]
  },
  {
   "cell_type": "code",
   "execution_count": 37,
   "metadata": {},
   "outputs": [
    {
     "data": {
      "text/plain": [
       "4"
      ]
     },
     "execution_count": 37,
     "metadata": {},
     "output_type": "execute_result"
    }
   ],
   "source": [
    "deleteTarget(h1,5).next.val"
   ]
  },
  {
   "cell_type": "code",
   "execution_count": null,
   "metadata": {
    "collapsed": true
   },
   "outputs": [],
   "source": []
  }
 ],
 "metadata": {
  "kernelspec": {
   "display_name": "Python 3",
   "language": "python",
   "name": "python3"
  },
  "language_info": {
   "codemirror_mode": {
    "name": "ipython",
    "version": 3
   },
   "file_extension": ".py",
   "mimetype": "text/x-python",
   "name": "python",
   "nbconvert_exporter": "python",
   "pygments_lexer": "ipython3",
   "version": "3.6.8"
  },
  "toc": {
   "base_numbering": 1,
   "nav_menu": {},
   "number_sections": false,
   "sideBar": true,
   "skip_h1_title": false,
   "title_cell": "Table of Contents",
   "title_sidebar": "Contents",
   "toc_cell": false,
   "toc_position": {},
   "toc_section_display": true,
   "toc_window_display": false
  }
 },
 "nbformat": 4,
 "nbformat_minor": 2
}
